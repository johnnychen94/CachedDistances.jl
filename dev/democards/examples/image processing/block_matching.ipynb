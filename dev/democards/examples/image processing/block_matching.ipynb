{
 "cells": [
  {
   "cell_type": "markdown",
   "source": [
    "Block matching algorithm is one key stage in patch-based image processing algorithm. This example\n",
    "shows how block matching algorithm can be implemented efficiently and easily with the help of\n",
    "LazyDistances.jl."
   ],
   "metadata": {}
  },
  {
   "outputs": [
    {
     "output_type": "execute_result",
     "data": {
      "text/plain": "64×64 Array{Gray{Float32},2} with eltype ColorTypes.Gray{Float32}:\n Gray{Float32}(0.610784)  Gray{Float32}(0.620588)  …  Gray{Float32}(0.601961)\n Gray{Float32}(0.605882)  Gray{Float32}(0.602941)     Gray{Float32}(0.589216)\n Gray{Float32}(0.612745)  Gray{Float32}(0.619608)     Gray{Float32}(0.589216)\n Gray{Float32}(0.614706)  Gray{Float32}(0.618627)     Gray{Float32}(0.581373)\n Gray{Float32}(0.610784)  Gray{Float32}(0.603922)     Gray{Float32}(0.597059)\n Gray{Float32}(0.601961)  Gray{Float32}(0.619608)  …  Gray{Float32}(0.604902)\n Gray{Float32}(0.605882)  Gray{Float32}(0.608824)     Gray{Float32}(0.592157)\n Gray{Float32}(0.628431)  Gray{Float32}(0.62549)      Gray{Float32}(0.6)\n Gray{Float32}(0.622549)  Gray{Float32}(0.615686)     Gray{Float32}(0.589216)\n Gray{Float32}(0.594118)  Gray{Float32}(0.607843)     Gray{Float32}(0.580392)\n ⋮                                                 ⋱  \n Gray{Float32}(0.50098)   Gray{Float32}(0.486275)  …  Gray{Float32}(0.409804)\n Gray{Float32}(0.497059)  Gray{Float32}(0.554902)     Gray{Float32}(0.404902)\n Gray{Float32}(0.454902)  Gray{Float32}(0.519608)     Gray{Float32}(0.49902)\n Gray{Float32}(0.465686)  Gray{Float32}(0.476471)     Gray{Float32}(0.445098)\n Gray{Float32}(0.570588)  Gray{Float32}(0.557843)     Gray{Float32}(0.408824)\n Gray{Float32}(0.440196)  Gray{Float32}(0.491176)  …  Gray{Float32}(0.462745)\n Gray{Float32}(0.411765)  Gray{Float32}(0.446078)     Gray{Float32}(0.527451)\n Gray{Float32}(0.461765)  Gray{Float32}(0.495098)     Gray{Float32}(0.395098)\n Gray{Float32}(0.496078)  Gray{Float32}(0.572549)     Gray{Float32}(0.531373)",
      "image/png": "[encoded data removed]"
     },
     "metadata": {},
     "execution_count": 1
    }
   ],
   "cell_type": "code",
   "source": [
    "using Images\n",
    "using TestImages\n",
    "using LazyDistances\n",
    "\n",
    "img = imresize(float.(testimage(\"cameraman\")), (64, 64))"
   ],
   "metadata": {},
   "execution_count": 1
  },
  {
   "cell_type": "markdown",
   "source": [
    "For given patch radius `rₚ`, we can get a patch at each pixel `p` in the image."
   ],
   "metadata": {}
  },
  {
   "outputs": [
    {
     "output_type": "execute_result",
     "data": {
      "text/plain": "7×7 Array{Gray{Float32},2} with eltype ColorTypes.Gray{Float32}:\n Gray{Float32}(0.0833333)  …  Gray{Float32}(0.818627)\n Gray{Float32}(0.210784)      Gray{Float32}(0.229412)\n Gray{Float32}(0.371569)      Gray{Float32}(0.326471)\n Gray{Float32}(0.637255)      Gray{Float32}(0.369608)\n Gray{Float32}(0.357843)      Gray{Float32}(0.469608)\n Gray{Float32}(0.0833333)  …  Gray{Float32}(0.684314)\n Gray{Float32}(0.0607843)     Gray{Float32}(0.390196)",
      "image/png": "[encoded data removed]"
     },
     "metadata": {},
     "execution_count": 2
    }
   ],
   "cell_type": "code",
   "source": [
    "p = CartesianIndex(20, 30)\n",
    "rₚ = CartesianIndex(3, 3) # patch size (7, 7)\n",
    "patch_p = img[p-rₚ:p+rₚ]"
   ],
   "metadata": {},
   "execution_count": 2
  },
  {
   "cell_type": "markdown",
   "source": [
    "For each pixel `p`, what block matching does is to find a group of patches that are similar to\n",
    "`patch_p`."
   ],
   "metadata": {}
  },
  {
   "outputs": [
    {
     "output_type": "execute_result",
     "data": {
      "text/plain": "block_matching (generic function with 1 method)"
     },
     "metadata": {},
     "execution_count": 3
    }
   ],
   "cell_type": "code",
   "source": [
    "function block_matching(f, img, p, rₚ; num_patches=10)\n",
    "    R = CartesianIndices(img)\n",
    "    # to simplify the implementation and not consider border case\n",
    "    candidates = first(R)+rₚ:last(R)-rₚ\n",
    "\n",
    "    # Measure the similarity of two patches with `f`. Typically, `f` is `sqeuclidean`\n",
    "    patch_p = @view img[p-rₚ:p+rₚ]\n",
    "    dist = map(candidates) do q\n",
    "        patch_q = @view img[q-rₚ:q+rₚ]\n",
    "        f(patch_p, patch_q)\n",
    "    end |> vec\n",
    "\n",
    "    # sort from small(the most similar) to large(the least similar)\n",
    "    # TODO: use partialsortperm! to reduce allocation\n",
    "    order = partialsortperm(dist, 1:num_patches) # 34.394 μs (4 allocations: 26.44 KiB)\n",
    "    qs = @view candidates[order]\n",
    "end"
   ],
   "metadata": {},
   "execution_count": 3
  },
  {
   "cell_type": "markdown",
   "source": [
    "Here we get a group of patches that are similar to `patch_p` in the sense of F-norm."
   ],
   "metadata": {}
  },
  {
   "outputs": [
    {
     "output_type": "execute_result",
     "data": {
      "text/plain": "16×43 MosaicViews.MosaicView{ColorTypes.Gray{Float32},4,Base.ReshapedArray{ColorTypes.Gray{Float32},4,PaddedViews.PaddedView{ColorTypes.Gray{Float32},3,Tuple{Base.OneTo{Int64},Base.OneTo{Int64},Base.OneTo{Int64}},Array{ColorTypes.Gray{Float32},3}},Tuple{Base.MultiplicativeInverses.SignedMultiplicativeInverse{Int64},Base.MultiplicativeInverses.SignedMultiplicativeInverse{Int64}}}}:\n Gray{Float32}(0.0833333)  …  Gray{Float32}(0.552941)\n Gray{Float32}(0.210784)      Gray{Float32}(0.542157)\n Gray{Float32}(0.371569)      Gray{Float32}(0.428431)\n Gray{Float32}(0.637255)      Gray{Float32}(0.461765)\n Gray{Float32}(0.357843)      Gray{Float32}(0.498039)\n Gray{Float32}(0.0833333)  …  Gray{Float32}(0.498039)\n Gray{Float32}(0.0607843)     Gray{Float32}(0.509804)\n Gray{Float32}(0.0)           Gray{Float32}(0.0)\n Gray{Float32}(0.0)           Gray{Float32}(0.0)\n Gray{Float32}(0.166667)      Gray{Float32}(0.687255)\n Gray{Float32}(0.0901961)  …  Gray{Float32}(0.701961)\n Gray{Float32}(0.109804)      Gray{Float32}(0.696078)\n Gray{Float32}(0.0970588)     Gray{Float32}(0.688235)\n Gray{Float32}(0.262745)      Gray{Float32}(0.230392)\n Gray{Float32}(0.217647)      Gray{Float32}(0.854902)\n Gray{Float32}(0.254902)   …  Gray{Float32}(0.322549)",
      "image/png": "[encoded data removed]"
     },
     "metadata": {},
     "execution_count": 4
    }
   ],
   "cell_type": "code",
   "source": [
    "matched_patches = block_matching(SqEuclidean(), img, p, rₚ) # 212.266 μs (7 allocations: 39.83 KiB)\n",
    "mosaicview(map(q->img[q-rₚ:q+rₚ], matched_patches); npad=2, nrow=2)"
   ],
   "metadata": {},
   "execution_count": 4
  },
  {
   "cell_type": "markdown",
   "source": [
    "This implementation looks good, but there's one key challenge here, that we need to loop over the\n",
    "whole image and do block matching for each pixel. This means we are doing a massive computation\n",
    "and there are a lot of unnecessary redundant calculation if we are doing a simple loop.\n",
    "\n",
    "For example, this is what a naive implementation of patch-based algorithm might looks like"
   ],
   "metadata": {}
  },
  {
   "outputs": [
    {
     "output_type": "execute_result",
     "data": {
      "text/plain": "64×64 Array{Gray{Float32},2} with eltype ColorTypes.Gray{Float32}:\n Gray{Float32}(0.0)  Gray{Float32}(0.0)  …  Gray{Float32}(0.0)\n Gray{Float32}(0.0)  Gray{Float32}(0.0)     Gray{Float32}(0.0)\n Gray{Float32}(0.0)  Gray{Float32}(0.0)     Gray{Float32}(0.0)\n Gray{Float32}(0.0)  Gray{Float32}(0.0)     Gray{Float32}(0.0)\n Gray{Float32}(0.0)  Gray{Float32}(0.0)     Gray{Float32}(0.0)\n Gray{Float32}(0.0)  Gray{Float32}(0.0)  …  Gray{Float32}(0.0)\n Gray{Float32}(0.0)  Gray{Float32}(0.0)     Gray{Float32}(0.0)\n Gray{Float32}(0.0)  Gray{Float32}(0.0)     Gray{Float32}(0.0)\n Gray{Float32}(0.0)  Gray{Float32}(0.0)     Gray{Float32}(0.0)\n Gray{Float32}(0.0)  Gray{Float32}(0.0)     Gray{Float32}(0.0)\n ⋮                                       ⋱  \n Gray{Float32}(0.0)  Gray{Float32}(0.0)  …  Gray{Float32}(0.0)\n Gray{Float32}(0.0)  Gray{Float32}(0.0)     Gray{Float32}(0.0)\n Gray{Float32}(0.0)  Gray{Float32}(0.0)     Gray{Float32}(0.0)\n Gray{Float32}(0.0)  Gray{Float32}(0.0)     Gray{Float32}(0.0)\n Gray{Float32}(0.0)  Gray{Float32}(0.0)     Gray{Float32}(0.0)\n Gray{Float32}(0.0)  Gray{Float32}(0.0)  …  Gray{Float32}(0.0)\n Gray{Float32}(0.0)  Gray{Float32}(0.0)     Gray{Float32}(0.0)\n Gray{Float32}(0.0)  Gray{Float32}(0.0)     Gray{Float32}(0.0)\n Gray{Float32}(0.0)  Gray{Float32}(0.0)     Gray{Float32}(0.0)",
      "image/png": "[encoded data removed]"
     },
     "metadata": {},
     "execution_count": 5
    }
   ],
   "cell_type": "code",
   "source": [
    "function patched_mean(img, rₚ; num_patches=10)\n",
    "    out = fill(zero(eltype(img)), axes(img))\n",
    "\n",
    "    R = CartesianIndices(img)\n",
    "    for p in first(R)+rₚ:last(R)-rₚ\n",
    "        matched_patches = block_matching(SqEuclidean(), img, p, rₚ; num_patches=num_patches)\n",
    "        out[p] = mapreduce(q->img[q], +, matched_patches)/length(matched_patches)\n",
    "    end\n",
    "    out\n",
    "end\n",
    "\n",
    "patched_mean(img, rₚ) # 794.575 ms (23549 allocations: 130.86 MiB)"
   ],
   "metadata": {},
   "execution_count": 5
  },
  {
   "cell_type": "markdown",
   "source": [
    "What's wrong here? There are a lot of repeated calculation in `f(patch_q, patch_q)`. For example,\n",
    "when `f = SqEuclidean()`\n",
    "\n",
    "$$\n",
    "d = \\sum_{p, q} (I[p] - I[q])^2\n",
    "$$\n",
    "\n",
    "Please do note that `(I[p] -  I[q])^2` is repeatedly calculated in the whole iteration. One single\n",
    "calculation of such is not expensive, but it is a siginficant amount of work when it's in a nested\n",
    "for-loops.\n",
    "\n",
    "Among all the existing MATLAB and Python implementations, there are two things done to work around\n",
    "this key challenge. The first workaround is to pre-calculate the pixelwise distances and then\n",
    "reuse it in the inner loop. It works quite well but it also introduces another key challenge, that\n",
    "the memeory will complain for large image size; to store the result for image with size `(256,\n",
    "256)` we need an array of size `(256, 256, 256, 256)`, which is 32 GB memory and\n",
    "unaccptable. The second workaround, is then to specify a search window, that to only search\n",
    "similar patches in a larger neighborhood of pixel `p`. For search window size `(17, 17)`, the\n",
    "memeory needed to store the result is 0.14 GB, which is more acceptable.\n",
    "\n",
    "We are not going to explore how search window and pre-calculation are implemented because this is\n",
    "quite a dirty work; you almost have to write the whole implementation in a long long for-loop.\n",
    "Instead, we are going to see how this can be efficiently and easily implemented with\n",
    "LazyDistances.jl."
   ],
   "metadata": {}
  },
  {
   "cell_type": "markdown",
   "source": [
    "A `PairwiseDistance` is a lazy array that mimics the output of pairwise distance."
   ],
   "metadata": {}
  },
  {
   "outputs": [
    {
     "output_type": "execute_result",
     "data": {
      "text/plain": "true"
     },
     "metadata": {},
     "execution_count": 6
    }
   ],
   "cell_type": "code",
   "source": [
    "eval_op(x, y) = abs2(x - y)\n",
    "pointwise_dist = PairwiseDistance(eval_op, img, img); # 1.982 ns (0 allocations: 0 bytes)\n",
    "\n",
    "# pointwise_dist[I, J] is defined as f(img[I], img[J])\n",
    "pq1 = pointwise_dist[CartesianIndex(1, 1), CartesianIndex(2, 2)]\n",
    "pq2 = eval_op(img[CartesianIndex(1, 1)], img[CartesianIndex(2, 2)])\n",
    "pq1 == pq2"
   ],
   "metadata": {},
   "execution_count": 6
  },
  {
   "cell_type": "markdown",
   "source": [
    "Generating this array does not doing any actual computation; the computation does not happen until\n",
    "you ask for the data. We can also build a patchwise distance with this."
   ],
   "metadata": {}
  },
  {
   "outputs": [
    {
     "output_type": "execute_result",
     "data": {
      "text/plain": "true"
     },
     "metadata": {},
     "execution_count": 7
    }
   ],
   "cell_type": "code",
   "source": [
    "R = CartesianIndices(img)\n",
    "valid_R = first(R)+rₚ:last(R)-rₚ\n",
    "\n",
    "# For simplicity, we didn't deal with boundary condition here, so it will error\n",
    "# when we index with `patchwise_dist[1, 1, 1, 1]`.\n",
    "patchwise_dist = let rₚ = rₚ, img = img\n",
    "        PairwiseDistance(SqEuclidean(), img, img) do p, q\n",
    "        # here we specify how patches are generated from given pixel p and q\n",
    "        p, q = CartesianIndex(p), CartesianIndex(q)\n",
    "        @views img[p-rₚ:p+rₚ], img[q-rₚ:q+rₚ]\n",
    "    end\n",
    "end; # 4.903 ns (0 allocations: 0 bytes)\n",
    "\n",
    "p = CartesianIndex(4, 4)\n",
    "q = CartesianIndex(5, 5)\n",
    "# @btime getindex($patchwise_dist, $p, $q) # 54.374 ns (0 allocations: 0 bytes)\n",
    "patchwise_dist[p, q] == sqeuclidean(img[p-rₚ:p+rₚ], img[q-rₚ:q+rₚ])"
   ],
   "metadata": {},
   "execution_count": 7
  },
  {
   "cell_type": "markdown",
   "source": [
    "This way we have generated the patchwise distances, although the actual computation doesn't happen\n",
    "until we need it."
   ],
   "metadata": {}
  },
  {
   "outputs": [
    {
     "output_type": "execute_result",
     "data": {
      "text/plain": "true"
     },
     "metadata": {},
     "execution_count": 8
    }
   ],
   "cell_type": "code",
   "source": [
    "function patched_mean_fast(img, rₚ; num_patches=10)\n",
    "    out = fill(zero(eltype(img)), axes(img))\n",
    "\n",
    "    patchwise_dist = PairwiseDistance(SqEuclidean(), img, img) do p, q\n",
    "        p, q = CartesianIndex(p), CartesianIndex(q)\n",
    "        @views img[p-rₚ:p+rₚ], img[q-rₚ:q+rₚ]\n",
    "    end\n",
    "\n",
    "    R = CartesianIndices(img)\n",
    "    R0 = first(R)+rₚ:last(R)-rₚ\n",
    "    for p in R0\n",
    "        dist = vec(patchwise_dist[p, R0])\n",
    "        matched_patches = R0[partialsortperm(dist, 1:num_patches)]\n",
    "        out[p] = mapreduce(q->img[q], +, matched_patches)/length(matched_patches)\n",
    "    end\n",
    "    out\n",
    "end\n",
    "\n",
    "# @btime patched_mean_fast($img, rₚ);\n",
    "#  657.075 ms (26913 allocations: 131.63 MiB)\n",
    "# @btime patched_mean($img, rₚ);\n",
    "#  797.023 ms (23549 allocations: 130.86 MiB)\n",
    "patched_mean_fast(img, rₚ) == patched_mean(img, rₚ)"
   ],
   "metadata": {},
   "execution_count": 8
  },
  {
   "cell_type": "markdown",
   "source": [
    "Great! We haven't incoporate the pre-calculation trick yet, we still get a bit faster by making\n",
    "things lazy."
   ],
   "metadata": {}
  },
  {
   "cell_type": "markdown",
   "source": [
    "More generally speaking, pre-calculation is just a cache. `PairwiseDistance` supports a so-called\n",
    "`LocalWindowCache` cache which stores the results in neighborhood `(p, q-r:q+r)` for each pixel\n",
    "pair `(p, q)`."
   ],
   "metadata": {}
  },
  {
   "outputs": [
    {
     "output_type": "execute_result",
     "data": {
      "text/plain": "true"
     },
     "metadata": {},
     "execution_count": 9
    }
   ],
   "cell_type": "code",
   "source": [
    "eval_op(x, y) = abs2(x - y)\n",
    "pointwise_dist = PairwiseDistance(eval_op, img, img, LocalWindowCache((7, 7))) # 32.575 μs (3 allocations: 980.12 KiB)\n",
    "\n",
    "pq1 = pointwise_dist[CartesianIndex(1, 1), CartesianIndex(2, 2)]\n",
    "pq2 = eval_op(img[CartesianIndex(1, 1)], img[CartesianIndex(2, 2)])\n",
    "pq1 == pq2"
   ],
   "metadata": {},
   "execution_count": 9
  },
  {
   "cell_type": "markdown",
   "source": [
    "This requires a bit more memory because we will allocate a cache array of size `(64, 64, 7, 7)`,\n",
    "which is about 788 KB memory for Float32 type. Reusing the cache requires us to implement the\n",
    "SqEuclidean function on it. Lucikly we can get this done very efficiently and quickly in Julia."
   ],
   "metadata": {}
  },
  {
   "outputs": [
    {
     "output_type": "execute_result",
     "data": {
      "text/plain": "false"
     },
     "metadata": {},
     "execution_count": 10
    }
   ],
   "cell_type": "code",
   "source": [
    "patchwise_dist = let img=img, rₚ=rₚ\n",
    "        eval_op(x, y) = abs2(x - y)\n",
    "        pointwise_dist = PairwiseDistance(eval_op, img, img, LocalWindowCache((7, 7)))\n",
    "\n",
    "        patch_eval_op(patch_p, patch_q) = mapreduce((p, q)->pointwise_dist[p, q], +, patch_p, patch_q)\n",
    "        PairwiseDistance{Float32}(patch_eval_op, img, img) do p, q\n",
    "        p, q = CartesianIndex(p), CartesianIndex(q)\n",
    "        p-rₚ:p+rₚ, q-rₚ:q+rₚ\n",
    "    end\n",
    "end;\n",
    "\n",
    "# TODO: unfortunately, this is currently slower than the non-cache version: 10x slower :cry:\n",
    "# @btime getindex($patchwise_dist, $p, $q) # 526.684 ns (3 allocations: 448 bytes)\n",
    "patchwise_dist[p, q] == sqeuclidean(img[p-rₚ:p+rₚ], img[q-rₚ:q+rₚ])"
   ],
   "metadata": {},
   "execution_count": 10
  },
  {
   "cell_type": "markdown",
   "source": [
    "---\n",
    "\n",
    "*This notebook was generated using [Literate.jl](https://github.com/fredrikekre/Literate.jl).*"
   ],
   "metadata": {}
  }
 ],
 "nbformat_minor": 3,
 "metadata": {
  "language_info": {
   "file_extension": ".jl",
   "mimetype": "application/julia",
   "name": "julia",
   "version": "1.5.2"
  },
  "kernelspec": {
   "name": "julia-1.5",
   "display_name": "Julia 1.5.2",
   "language": "julia"
  }
 },
 "nbformat": 4
}
